{
 "cells": [
  {
   "cell_type": "code",
   "execution_count": 1,
   "id": "c5b58224",
   "metadata": {},
   "outputs": [],
   "source": [
    "import numpy as np\n",
    "import tensorflow as tf\n",
    "from tensorflow.keras.datasets import imdb\n",
    "from tensorflow.keras.preprocessing import sequence\n",
    "from tensorflow.keras.models import load_model"
   ]
  },
  {
   "cell_type": "code",
   "execution_count": 2,
   "id": "71d28e19",
   "metadata": {},
   "outputs": [],
   "source": [
    "## Mapping of words index back to words(for better understanding of the reviews)\n",
    "word_index = imdb.get_word_index()\n",
    "reverse_word_index = {value:key for (key,value) in word_index.items()}"
   ]
  },
  {
   "cell_type": "code",
   "execution_count": 3,
   "id": "23091097",
   "metadata": {},
   "outputs": [
    {
     "name": "stdout",
     "output_type": "stream",
     "text": [
      "WARNING:tensorflow:From c:\\Users\\laher\\OneDrive\\Desktop\\Ai projects\\venv\\Lib\\site-packages\\keras\\src\\backend.py:1398: The name tf.executing_eagerly_outside_functions is deprecated. Please use tf.compat.v1.executing_eagerly_outside_functions instead.\n",
      "\n"
     ]
    }
   ],
   "source": [
    "model = load_model('rnn_imdb_model.h5')"
   ]
  },
  {
   "cell_type": "code",
   "execution_count": 4,
   "id": "46bf7aeb",
   "metadata": {},
   "outputs": [
    {
     "name": "stdout",
     "output_type": "stream",
     "text": [
      "Model: \"sequential\"\n",
      "_________________________________________________________________\n",
      " Layer (type)                Output Shape              Param #   \n",
      "=================================================================\n",
      " embedding (Embedding)       (None, 500, 128)          1280000   \n",
      "                                                                 \n",
      " simple_rnn (SimpleRNN)      (None, 128)               32896     \n",
      "                                                                 \n",
      " dense (Dense)               (None, 1)                 129       \n",
      "                                                                 \n",
      "=================================================================\n",
      "Total params: 1313025 (5.01 MB)\n",
      "Trainable params: 1313025 (5.01 MB)\n",
      "Non-trainable params: 0 (0.00 Byte)\n",
      "_________________________________________________________________\n"
     ]
    }
   ],
   "source": [
    "model.summary()"
   ]
  },
  {
   "cell_type": "code",
   "execution_count": null,
   "id": "3c17028a",
   "metadata": {},
   "outputs": [],
   "source": [
    "def decode_review(encodeed_review):\n",
    "    return ' '.join([reverse_word_index.get(i-3,'?') for i in encodeed_review])\n",
    "\n",
    "\n",
    "def preprocess_text(text):\n",
    "    # Tokenize the text\n",
    "    words = text.lower().split()\n",
    "    # Convert tokens to their corresponding indices based on the IMDB dataset's word index\n",
    "    encoded_review = [word_index.get(word, 2) + 3 for word in words]  # 2 is for unknown words, +3 for reserved indices\n",
    "    # Pad the sequence to ensure it has a length of 500\n",
    "    padded_review = sequence.pad_sequences([encoded_review], maxlen=500)\n",
    "    return padded_review"
   ]
  },
  {
   "cell_type": "code",
   "execution_count": 6,
   "id": "c68369c4",
   "metadata": {},
   "outputs": [],
   "source": [
    "## prediction function\n",
    "def predict_sentiment(review):\n",
    "    processed_review = preprocess_text(review)\n",
    "    prediction = model.predict(processed_review)\n",
    "    sentiment = \"Positive\" if prediction[0][0] >= 0.5 else \"Negative\"\n",
    "    return sentiment, prediction[0][0]"
   ]
  },
  {
   "cell_type": "code",
   "execution_count": 7,
   "id": "a2920558",
   "metadata": {},
   "outputs": [
    {
     "name": "stdout",
     "output_type": "stream",
     "text": [
      "1/1 [==============================] - 0s 187ms/step\n",
      "Review: The movie was fantastic! I really loved it and would watch it again.\n",
      "Sentiment: Positive (Score: 0.8753740191459656)\n"
     ]
    }
   ],
   "source": [
    "## Example usage\n",
    "new_review = \"The movie was fantastic! I really loved it and would watch it again.\"\n",
    "sentiment, score = predict_sentiment(new_review)\n",
    "print(f\"Review: {new_review}\\nSentiment: {sentiment} (Score: {score})\")"
   ]
  },
  {
   "cell_type": "code",
   "execution_count": null,
   "id": "86ca439b",
   "metadata": {},
   "outputs": [],
   "source": []
  }
 ],
 "metadata": {
  "kernelspec": {
   "display_name": "Python 3",
   "language": "python",
   "name": "python3"
  },
  "language_info": {
   "codemirror_mode": {
    "name": "ipython",
    "version": 3
   },
   "file_extension": ".py",
   "mimetype": "text/x-python",
   "name": "python",
   "nbconvert_exporter": "python",
   "pygments_lexer": "ipython3",
   "version": "3.11.0"
  }
 },
 "nbformat": 4,
 "nbformat_minor": 5
}
